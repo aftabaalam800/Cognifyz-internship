{
 "cells": [
  {
   "cell_type": "code",
   "execution_count": 20,
   "id": "2df4c7da-eb90-4ac2-bfdc-78d9fd0d18f9",
   "metadata": {},
   "outputs": [],
   "source": [
    "import pandas as pd \n",
    "import numpy as np \n",
    "import seaborn as sns \n",
    "import matplotlib.pyplot as plt\n",
    "import warnings\n",
    "warnings.filterwarnings(\"ignore\")"
   ]
  },
  {
   "cell_type": "markdown",
   "id": "8955e45d-1bb7-4c51-af3e-19161152139d",
   "metadata": {},
   "source": [
    " # **Level 1 Taks 1**\n",
    "## **Task: Top Cuisines**"
   ]
  },
  {
   "cell_type": "code",
   "execution_count": 21,
   "id": "799cdfb4-8f8c-4f68-ba3a-3ec54fd90d37",
   "metadata": {},
   "outputs": [],
   "source": [
    "df= pd.read_csv(\"Dataset .csv\")"
   ]
  },
  {
   "cell_type": "code",
   "execution_count": 22,
   "id": "12b72cfc-ce18-455a-8aba-7a722a41fedf",
   "metadata": {},
   "outputs": [
    {
     "data": {
      "text/html": [
       "<div>\n",
       "<style scoped>\n",
       "    .dataframe tbody tr th:only-of-type {\n",
       "        vertical-align: middle;\n",
       "    }\n",
       "\n",
       "    .dataframe tbody tr th {\n",
       "        vertical-align: top;\n",
       "    }\n",
       "\n",
       "    .dataframe thead th {\n",
       "        text-align: right;\n",
       "    }\n",
       "</style>\n",
       "<table border=\"1\" class=\"dataframe\">\n",
       "  <thead>\n",
       "    <tr style=\"text-align: right;\">\n",
       "      <th></th>\n",
       "      <th>Restaurant ID</th>\n",
       "      <th>Restaurant Name</th>\n",
       "      <th>Country Code</th>\n",
       "      <th>City</th>\n",
       "      <th>Address</th>\n",
       "      <th>Locality</th>\n",
       "      <th>Locality Verbose</th>\n",
       "      <th>Longitude</th>\n",
       "      <th>Latitude</th>\n",
       "      <th>Cuisines</th>\n",
       "      <th>...</th>\n",
       "      <th>Currency</th>\n",
       "      <th>Has Table booking</th>\n",
       "      <th>Has Online delivery</th>\n",
       "      <th>Is delivering now</th>\n",
       "      <th>Switch to order menu</th>\n",
       "      <th>Price range</th>\n",
       "      <th>Aggregate rating</th>\n",
       "      <th>Rating color</th>\n",
       "      <th>Rating text</th>\n",
       "      <th>Votes</th>\n",
       "    </tr>\n",
       "  </thead>\n",
       "  <tbody>\n",
       "    <tr>\n",
       "      <th>0</th>\n",
       "      <td>6317637</td>\n",
       "      <td>Le Petit Souffle</td>\n",
       "      <td>162</td>\n",
       "      <td>Makati City</td>\n",
       "      <td>Third Floor, Century City Mall, Kalayaan Avenu...</td>\n",
       "      <td>Century City Mall, Poblacion, Makati City</td>\n",
       "      <td>Century City Mall, Poblacion, Makati City, Mak...</td>\n",
       "      <td>121.027535</td>\n",
       "      <td>14.565443</td>\n",
       "      <td>French, Japanese, Desserts</td>\n",
       "      <td>...</td>\n",
       "      <td>Botswana Pula(P)</td>\n",
       "      <td>Yes</td>\n",
       "      <td>No</td>\n",
       "      <td>No</td>\n",
       "      <td>No</td>\n",
       "      <td>3</td>\n",
       "      <td>4.8</td>\n",
       "      <td>Dark Green</td>\n",
       "      <td>Excellent</td>\n",
       "      <td>314</td>\n",
       "    </tr>\n",
       "    <tr>\n",
       "      <th>1</th>\n",
       "      <td>6304287</td>\n",
       "      <td>Izakaya Kikufuji</td>\n",
       "      <td>162</td>\n",
       "      <td>Makati City</td>\n",
       "      <td>Little Tokyo, 2277 Chino Roces Avenue, Legaspi...</td>\n",
       "      <td>Little Tokyo, Legaspi Village, Makati City</td>\n",
       "      <td>Little Tokyo, Legaspi Village, Makati City, Ma...</td>\n",
       "      <td>121.014101</td>\n",
       "      <td>14.553708</td>\n",
       "      <td>Japanese</td>\n",
       "      <td>...</td>\n",
       "      <td>Botswana Pula(P)</td>\n",
       "      <td>Yes</td>\n",
       "      <td>No</td>\n",
       "      <td>No</td>\n",
       "      <td>No</td>\n",
       "      <td>3</td>\n",
       "      <td>4.5</td>\n",
       "      <td>Dark Green</td>\n",
       "      <td>Excellent</td>\n",
       "      <td>591</td>\n",
       "    </tr>\n",
       "    <tr>\n",
       "      <th>2</th>\n",
       "      <td>6300002</td>\n",
       "      <td>Heat - Edsa Shangri-La</td>\n",
       "      <td>162</td>\n",
       "      <td>Mandaluyong City</td>\n",
       "      <td>Edsa Shangri-La, 1 Garden Way, Ortigas, Mandal...</td>\n",
       "      <td>Edsa Shangri-La, Ortigas, Mandaluyong City</td>\n",
       "      <td>Edsa Shangri-La, Ortigas, Mandaluyong City, Ma...</td>\n",
       "      <td>121.056831</td>\n",
       "      <td>14.581404</td>\n",
       "      <td>Seafood, Asian, Filipino, Indian</td>\n",
       "      <td>...</td>\n",
       "      <td>Botswana Pula(P)</td>\n",
       "      <td>Yes</td>\n",
       "      <td>No</td>\n",
       "      <td>No</td>\n",
       "      <td>No</td>\n",
       "      <td>4</td>\n",
       "      <td>4.4</td>\n",
       "      <td>Green</td>\n",
       "      <td>Very Good</td>\n",
       "      <td>270</td>\n",
       "    </tr>\n",
       "    <tr>\n",
       "      <th>3</th>\n",
       "      <td>6318506</td>\n",
       "      <td>Ooma</td>\n",
       "      <td>162</td>\n",
       "      <td>Mandaluyong City</td>\n",
       "      <td>Third Floor, Mega Fashion Hall, SM Megamall, O...</td>\n",
       "      <td>SM Megamall, Ortigas, Mandaluyong City</td>\n",
       "      <td>SM Megamall, Ortigas, Mandaluyong City, Mandal...</td>\n",
       "      <td>121.056475</td>\n",
       "      <td>14.585318</td>\n",
       "      <td>Japanese, Sushi</td>\n",
       "      <td>...</td>\n",
       "      <td>Botswana Pula(P)</td>\n",
       "      <td>No</td>\n",
       "      <td>No</td>\n",
       "      <td>No</td>\n",
       "      <td>No</td>\n",
       "      <td>4</td>\n",
       "      <td>4.9</td>\n",
       "      <td>Dark Green</td>\n",
       "      <td>Excellent</td>\n",
       "      <td>365</td>\n",
       "    </tr>\n",
       "    <tr>\n",
       "      <th>4</th>\n",
       "      <td>6314302</td>\n",
       "      <td>Sambo Kojin</td>\n",
       "      <td>162</td>\n",
       "      <td>Mandaluyong City</td>\n",
       "      <td>Third Floor, Mega Atrium, SM Megamall, Ortigas...</td>\n",
       "      <td>SM Megamall, Ortigas, Mandaluyong City</td>\n",
       "      <td>SM Megamall, Ortigas, Mandaluyong City, Mandal...</td>\n",
       "      <td>121.057508</td>\n",
       "      <td>14.584450</td>\n",
       "      <td>Japanese, Korean</td>\n",
       "      <td>...</td>\n",
       "      <td>Botswana Pula(P)</td>\n",
       "      <td>Yes</td>\n",
       "      <td>No</td>\n",
       "      <td>No</td>\n",
       "      <td>No</td>\n",
       "      <td>4</td>\n",
       "      <td>4.8</td>\n",
       "      <td>Dark Green</td>\n",
       "      <td>Excellent</td>\n",
       "      <td>229</td>\n",
       "    </tr>\n",
       "  </tbody>\n",
       "</table>\n",
       "<p>5 rows × 21 columns</p>\n",
       "</div>"
      ],
      "text/plain": [
       "   Restaurant ID         Restaurant Name  Country Code              City  \\\n",
       "0        6317637        Le Petit Souffle           162       Makati City   \n",
       "1        6304287        Izakaya Kikufuji           162       Makati City   \n",
       "2        6300002  Heat - Edsa Shangri-La           162  Mandaluyong City   \n",
       "3        6318506                    Ooma           162  Mandaluyong City   \n",
       "4        6314302             Sambo Kojin           162  Mandaluyong City   \n",
       "\n",
       "                                             Address  \\\n",
       "0  Third Floor, Century City Mall, Kalayaan Avenu...   \n",
       "1  Little Tokyo, 2277 Chino Roces Avenue, Legaspi...   \n",
       "2  Edsa Shangri-La, 1 Garden Way, Ortigas, Mandal...   \n",
       "3  Third Floor, Mega Fashion Hall, SM Megamall, O...   \n",
       "4  Third Floor, Mega Atrium, SM Megamall, Ortigas...   \n",
       "\n",
       "                                     Locality  \\\n",
       "0   Century City Mall, Poblacion, Makati City   \n",
       "1  Little Tokyo, Legaspi Village, Makati City   \n",
       "2  Edsa Shangri-La, Ortigas, Mandaluyong City   \n",
       "3      SM Megamall, Ortigas, Mandaluyong City   \n",
       "4      SM Megamall, Ortigas, Mandaluyong City   \n",
       "\n",
       "                                    Locality Verbose   Longitude   Latitude  \\\n",
       "0  Century City Mall, Poblacion, Makati City, Mak...  121.027535  14.565443   \n",
       "1  Little Tokyo, Legaspi Village, Makati City, Ma...  121.014101  14.553708   \n",
       "2  Edsa Shangri-La, Ortigas, Mandaluyong City, Ma...  121.056831  14.581404   \n",
       "3  SM Megamall, Ortigas, Mandaluyong City, Mandal...  121.056475  14.585318   \n",
       "4  SM Megamall, Ortigas, Mandaluyong City, Mandal...  121.057508  14.584450   \n",
       "\n",
       "                           Cuisines  ...          Currency Has Table booking  \\\n",
       "0        French, Japanese, Desserts  ...  Botswana Pula(P)               Yes   \n",
       "1                          Japanese  ...  Botswana Pula(P)               Yes   \n",
       "2  Seafood, Asian, Filipino, Indian  ...  Botswana Pula(P)               Yes   \n",
       "3                   Japanese, Sushi  ...  Botswana Pula(P)                No   \n",
       "4                  Japanese, Korean  ...  Botswana Pula(P)               Yes   \n",
       "\n",
       "  Has Online delivery Is delivering now Switch to order menu Price range  \\\n",
       "0                  No                No                   No           3   \n",
       "1                  No                No                   No           3   \n",
       "2                  No                No                   No           4   \n",
       "3                  No                No                   No           4   \n",
       "4                  No                No                   No           4   \n",
       "\n",
       "   Aggregate rating  Rating color Rating text Votes  \n",
       "0               4.8    Dark Green   Excellent   314  \n",
       "1               4.5    Dark Green   Excellent   591  \n",
       "2               4.4         Green   Very Good   270  \n",
       "3               4.9    Dark Green   Excellent   365  \n",
       "4               4.8    Dark Green   Excellent   229  \n",
       "\n",
       "[5 rows x 21 columns]"
      ]
     },
     "execution_count": 22,
     "metadata": {},
     "output_type": "execute_result"
    }
   ],
   "source": [
    "df.head() ## Data Overview"
   ]
  },
  {
   "cell_type": "code",
   "execution_count": 23,
   "id": "32e4e655-6dd6-41fe-ade4-5f6a62c975cd",
   "metadata": {},
   "outputs": [
    {
     "data": {
      "text/plain": [
       "(9551, 21)"
      ]
     },
     "execution_count": 23,
     "metadata": {},
     "output_type": "execute_result"
    }
   ],
   "source": [
    "df.shape  # we have 9551 rows and 21 columns in our dataset"
   ]
  },
  {
   "cell_type": "code",
   "execution_count": 24,
   "id": "3e9a03c4-9913-4972-a8c3-b13d1503b384",
   "metadata": {},
   "outputs": [
    {
     "data": {
      "text/plain": [
       "Restaurant ID           0\n",
       "Restaurant Name         0\n",
       "Country Code            0\n",
       "City                    0\n",
       "Address                 0\n",
       "Locality                0\n",
       "Locality Verbose        0\n",
       "Longitude               0\n",
       "Latitude                0\n",
       "Cuisines                9\n",
       "Average Cost for two    0\n",
       "Currency                0\n",
       "Has Table booking       0\n",
       "Has Online delivery     0\n",
       "Is delivering now       0\n",
       "Switch to order menu    0\n",
       "Price range             0\n",
       "Aggregate rating        0\n",
       "Rating color            0\n",
       "Rating text             0\n",
       "Votes                   0\n",
       "dtype: int64"
      ]
     },
     "execution_count": 24,
     "metadata": {},
     "output_type": "execute_result"
    }
   ],
   "source": [
    "df.isnull().sum()  ## Checking null values "
   ]
  },
  {
   "cell_type": "code",
   "execution_count": 25,
   "id": "cb65050b-8f01-4f3a-bd31-b1d8e61dfb21",
   "metadata": {},
   "outputs": [
    {
     "name": "stdout",
     "output_type": "stream",
     "text": [
      "<class 'pandas.core.frame.DataFrame'>\n",
      "RangeIndex: 9551 entries, 0 to 9550\n",
      "Data columns (total 21 columns):\n",
      " #   Column                Non-Null Count  Dtype  \n",
      "---  ------                --------------  -----  \n",
      " 0   Restaurant ID         9551 non-null   int64  \n",
      " 1   Restaurant Name       9551 non-null   object \n",
      " 2   Country Code          9551 non-null   int64  \n",
      " 3   City                  9551 non-null   object \n",
      " 4   Address               9551 non-null   object \n",
      " 5   Locality              9551 non-null   object \n",
      " 6   Locality Verbose      9551 non-null   object \n",
      " 7   Longitude             9551 non-null   float64\n",
      " 8   Latitude              9551 non-null   float64\n",
      " 9   Cuisines              9542 non-null   object \n",
      " 10  Average Cost for two  9551 non-null   int64  \n",
      " 11  Currency              9551 non-null   object \n",
      " 12  Has Table booking     9551 non-null   object \n",
      " 13  Has Online delivery   9551 non-null   object \n",
      " 14  Is delivering now     9551 non-null   object \n",
      " 15  Switch to order menu  9551 non-null   object \n",
      " 16  Price range           9551 non-null   int64  \n",
      " 17  Aggregate rating      9551 non-null   float64\n",
      " 18  Rating color          9551 non-null   object \n",
      " 19  Rating text           9551 non-null   object \n",
      " 20  Votes                 9551 non-null   int64  \n",
      "dtypes: float64(3), int64(5), object(13)\n",
      "memory usage: 1.5+ MB\n"
     ]
    }
   ],
   "source": [
    "df.info() ## Quick information about the dataset"
   ]
  },
  {
   "cell_type": "code",
   "execution_count": null,
   "id": "6d5dbb14-36ce-4f70-82ed-686022902301",
   "metadata": {},
   "outputs": [],
   "source": []
  },
  {
   "cell_type": "code",
   "execution_count": 26,
   "id": "2a1dd92d-7f94-41ae-99fb-fa97285ca518",
   "metadata": {},
   "outputs": [
    {
     "data": {
      "text/html": [
       "<div>\n",
       "<style scoped>\n",
       "    .dataframe tbody tr th:only-of-type {\n",
       "        vertical-align: middle;\n",
       "    }\n",
       "\n",
       "    .dataframe tbody tr th {\n",
       "        vertical-align: top;\n",
       "    }\n",
       "\n",
       "    .dataframe thead th {\n",
       "        text-align: right;\n",
       "    }\n",
       "</style>\n",
       "<table border=\"1\" class=\"dataframe\">\n",
       "  <thead>\n",
       "    <tr style=\"text-align: right;\">\n",
       "      <th></th>\n",
       "      <th>Restaurant ID</th>\n",
       "      <th>Country Code</th>\n",
       "      <th>Longitude</th>\n",
       "      <th>Latitude</th>\n",
       "      <th>Average Cost for two</th>\n",
       "      <th>Price range</th>\n",
       "      <th>Aggregate rating</th>\n",
       "      <th>Votes</th>\n",
       "    </tr>\n",
       "  </thead>\n",
       "  <tbody>\n",
       "    <tr>\n",
       "      <th>count</th>\n",
       "      <td>9.551000e+03</td>\n",
       "      <td>9551.000000</td>\n",
       "      <td>9551.000000</td>\n",
       "      <td>9551.000000</td>\n",
       "      <td>9551.000000</td>\n",
       "      <td>9551.000000</td>\n",
       "      <td>9551.000000</td>\n",
       "      <td>9551.000000</td>\n",
       "    </tr>\n",
       "    <tr>\n",
       "      <th>mean</th>\n",
       "      <td>9.051128e+06</td>\n",
       "      <td>18.365616</td>\n",
       "      <td>64.126574</td>\n",
       "      <td>25.854381</td>\n",
       "      <td>1199.210763</td>\n",
       "      <td>1.804837</td>\n",
       "      <td>2.666370</td>\n",
       "      <td>156.909748</td>\n",
       "    </tr>\n",
       "    <tr>\n",
       "      <th>std</th>\n",
       "      <td>8.791521e+06</td>\n",
       "      <td>56.750546</td>\n",
       "      <td>41.467058</td>\n",
       "      <td>11.007935</td>\n",
       "      <td>16121.183073</td>\n",
       "      <td>0.905609</td>\n",
       "      <td>1.516378</td>\n",
       "      <td>430.169145</td>\n",
       "    </tr>\n",
       "    <tr>\n",
       "      <th>min</th>\n",
       "      <td>5.300000e+01</td>\n",
       "      <td>1.000000</td>\n",
       "      <td>-157.948486</td>\n",
       "      <td>-41.330428</td>\n",
       "      <td>0.000000</td>\n",
       "      <td>1.000000</td>\n",
       "      <td>0.000000</td>\n",
       "      <td>0.000000</td>\n",
       "    </tr>\n",
       "    <tr>\n",
       "      <th>25%</th>\n",
       "      <td>3.019625e+05</td>\n",
       "      <td>1.000000</td>\n",
       "      <td>77.081343</td>\n",
       "      <td>28.478713</td>\n",
       "      <td>250.000000</td>\n",
       "      <td>1.000000</td>\n",
       "      <td>2.500000</td>\n",
       "      <td>5.000000</td>\n",
       "    </tr>\n",
       "    <tr>\n",
       "      <th>50%</th>\n",
       "      <td>6.004089e+06</td>\n",
       "      <td>1.000000</td>\n",
       "      <td>77.191964</td>\n",
       "      <td>28.570469</td>\n",
       "      <td>400.000000</td>\n",
       "      <td>2.000000</td>\n",
       "      <td>3.200000</td>\n",
       "      <td>31.000000</td>\n",
       "    </tr>\n",
       "    <tr>\n",
       "      <th>75%</th>\n",
       "      <td>1.835229e+07</td>\n",
       "      <td>1.000000</td>\n",
       "      <td>77.282006</td>\n",
       "      <td>28.642758</td>\n",
       "      <td>700.000000</td>\n",
       "      <td>2.000000</td>\n",
       "      <td>3.700000</td>\n",
       "      <td>131.000000</td>\n",
       "    </tr>\n",
       "    <tr>\n",
       "      <th>max</th>\n",
       "      <td>1.850065e+07</td>\n",
       "      <td>216.000000</td>\n",
       "      <td>174.832089</td>\n",
       "      <td>55.976980</td>\n",
       "      <td>800000.000000</td>\n",
       "      <td>4.000000</td>\n",
       "      <td>4.900000</td>\n",
       "      <td>10934.000000</td>\n",
       "    </tr>\n",
       "  </tbody>\n",
       "</table>\n",
       "</div>"
      ],
      "text/plain": [
       "       Restaurant ID  Country Code    Longitude     Latitude  \\\n",
       "count   9.551000e+03   9551.000000  9551.000000  9551.000000   \n",
       "mean    9.051128e+06     18.365616    64.126574    25.854381   \n",
       "std     8.791521e+06     56.750546    41.467058    11.007935   \n",
       "min     5.300000e+01      1.000000  -157.948486   -41.330428   \n",
       "25%     3.019625e+05      1.000000    77.081343    28.478713   \n",
       "50%     6.004089e+06      1.000000    77.191964    28.570469   \n",
       "75%     1.835229e+07      1.000000    77.282006    28.642758   \n",
       "max     1.850065e+07    216.000000   174.832089    55.976980   \n",
       "\n",
       "       Average Cost for two  Price range  Aggregate rating         Votes  \n",
       "count           9551.000000  9551.000000       9551.000000   9551.000000  \n",
       "mean            1199.210763     1.804837          2.666370    156.909748  \n",
       "std            16121.183073     0.905609          1.516378    430.169145  \n",
       "min                0.000000     1.000000          0.000000      0.000000  \n",
       "25%              250.000000     1.000000          2.500000      5.000000  \n",
       "50%              400.000000     2.000000          3.200000     31.000000  \n",
       "75%              700.000000     2.000000          3.700000    131.000000  \n",
       "max           800000.000000     4.000000          4.900000  10934.000000  "
      ]
     },
     "execution_count": 26,
     "metadata": {},
     "output_type": "execute_result"
    }
   ],
   "source": [
    "df.describe() ## Statistical summary of Dataset"
   ]
  },
  {
   "cell_type": "code",
   "execution_count": 27,
   "id": "c4000d2b-bcf7-4ca0-963c-3869210ffa3a",
   "metadata": {},
   "outputs": [
    {
     "data": {
      "text/plain": [
       "0"
      ]
     },
     "execution_count": 27,
     "metadata": {},
     "output_type": "execute_result"
    }
   ],
   "source": [
    "df.duplicated().sum() # Checking duplicate data"
   ]
  },
  {
   "cell_type": "markdown",
   "id": "603e04dd-1ee8-4e7e-9182-39e0e13a0829",
   "metadata": {},
   "source": [
    "## Determine the top three most common cuisines in the dataset"
   ]
  },
  {
   "cell_type": "code",
   "execution_count": 28,
   "id": "07c3a05a-41c6-4af2-a201-0665ff319d9c",
   "metadata": {},
   "outputs": [
    {
     "data": {
      "text/plain": [
       "0       None\n",
       "1       None\n",
       "2       None\n",
       "3       None\n",
       "4       None\n",
       "        ... \n",
       "9546    None\n",
       "9547    None\n",
       "9548    None\n",
       "9549    None\n",
       "9550    None\n",
       "Name: Cuisines, Length: 9551, dtype: object"
      ]
     },
     "execution_count": 28,
     "metadata": {},
     "output_type": "execute_result"
    }
   ],
   "source": [
    "top_cuisine = []\n",
    "\n",
    "def to_cuisines(cuisines):\n",
    "    if isinstance(cuisines, str): \n",
    "        cuisines_list = cuisines.split(', ') \n",
    "        for cuisine in cuisines_list:\n",
    "            top_cuisine.append(cuisine)\n",
    "\n",
    "df['Cuisines'].apply(to_cuisines)"
   ]
  },
  {
   "cell_type": "code",
   "execution_count": 29,
   "id": "37a2122b-6e0d-47fb-be29-501dc6e57cdf",
   "metadata": {},
   "outputs": [],
   "source": [
    "top_cuisine = pd.DataFrame(top_cuisine, columns=['Cusine']).value_counts().sort_values(ascending=False).reset_index()"
   ]
  },
  {
   "cell_type": "code",
   "execution_count": 30,
   "id": "e4e6b248-23fd-4354-84a9-85c23c0a93ec",
   "metadata": {},
   "outputs": [
    {
     "data": {
      "image/png": "[encoded data removed]",
      "text/plain": [
       "<Figure size 500x500 with 1 Axes>"
      ]
     },
     "metadata": {},
     "output_type": "display_data"
    }
   ],
   "source": [
    "plt.figure(figsize=(5,5))\n",
    "ax = sns.barplot(x=top_cuisine['Cusine'].head(3), y=top_cuisine['count'].head(3))\n",
    "ax.bar_label(ax.containers[0])\n",
    "plt.title(\"Top 3 most common cusine\")\n",
    "plt.tight_layout()\n",
    "plt.show()"
   ]
  },
  {
   "cell_type": "code",
   "execution_count": 31,
   "id": "f8f913e5-56a3-4e2f-aed6-ea10b3f10759",
   "metadata": {},
   "outputs": [
    {
     "data": {
      "text/html": [
       "<div>\n",
       "<style scoped>\n",
       "    .dataframe tbody tr th:only-of-type {\n",
       "        vertical-align: middle;\n",
       "    }\n",
       "\n",
       "    .dataframe tbody tr th {\n",
       "        vertical-align: top;\n",
       "    }\n",
       "\n",
       "    .dataframe thead th {\n",
       "        text-align: right;\n",
       "    }\n",
       "</style>\n",
       "<table border=\"1\" class=\"dataframe\">\n",
       "  <thead>\n",
       "    <tr style=\"text-align: right;\">\n",
       "      <th></th>\n",
       "      <th>Cuisines</th>\n",
       "      <th>count</th>\n",
       "    </tr>\n",
       "  </thead>\n",
       "  <tbody>\n",
       "    <tr>\n",
       "      <th>0</th>\n",
       "      <td>North Indian</td>\n",
       "      <td>936</td>\n",
       "    </tr>\n",
       "    <tr>\n",
       "      <th>1</th>\n",
       "      <td>North Indian, Chinese</td>\n",
       "      <td>511</td>\n",
       "    </tr>\n",
       "    <tr>\n",
       "      <th>2</th>\n",
       "      <td>Chinese</td>\n",
       "      <td>354</td>\n",
       "    </tr>\n",
       "  </tbody>\n",
       "</table>\n",
       "</div>"
      ],
      "text/plain": [
       "                Cuisines  count\n",
       "0           North Indian    936\n",
       "1  North Indian, Chinese    511\n",
       "2                Chinese    354"
      ]
     },
     "execution_count": 31,
     "metadata": {},
     "output_type": "execute_result"
    }
   ],
   "source": [
    "top_3 = df['Cuisines'].value_counts().sort_values(ascending=False).head(3).reset_index()\n",
    "top_3"
   ]
  },
  {
   "cell_type": "code",
   "execution_count": null,
   "id": "4373b6db-dd1a-45b1-9d78-9dc38e876a86",
   "metadata": {},
   "outputs": [],
   "source": []
  },
  {
   "cell_type": "code",
   "execution_count": 32,
   "id": "89abdc9b-1ac8-4238-a37a-b313370e3560",
   "metadata": {},
   "outputs": [
    {
     "data": {
      "image/png": "[encoded data removed]",
      "text/plain": [
       "<Figure size 500x400 with 1 Axes>"
      ]
     },
     "metadata": {},
     "output_type": "display_data"
    }
   ],
   "source": [
    "plt.figure(figsize=(5,4))\n",
    "ax= sns.barplot(x= top_3['Cuisines'], y=top_3['count'])\n",
    "ax.bar_label(ax.containers[0])\n",
    "plt.title(\"Top 3 Cusine\")\n",
    "plt.tight_layout()\n",
    "plt.show()"
   ]
  },
  {
   "cell_type": "code",
   "execution_count": null,
   "id": "a1ddd73d-5e33-4c6e-bbac-84917a59c5bd",
   "metadata": {},
   "outputs": [],
   "source": []
  },
  {
   "cell_type": "markdown",
   "id": "718f99fa-840c-40f1-bbc7-195f7817276e",
   "metadata": {},
   "source": [
    "## Calculate the percentage of restaurants that serve each of the top cuisines.\n",
    "\n"
   ]
  },
  {
   "cell_type": "code",
   "execution_count": 52,
   "id": "978d1aec-d166-4418-aa83-c43eb1ef4778",
   "metadata": {},
   "outputs": [],
   "source": [
    "cuisine_counts = df['Cuisines'].value_counts()"
   ]
  },
  {
   "cell_type": "code",
   "execution_count": 53,
   "id": "b6eb75a6-8e5d-46f0-beaa-79a842f30598",
   "metadata": {},
   "outputs": [],
   "source": [
    "percentage_cusine = cuisine_counts/cuisine_counts.sum()*100"
   ]
  },
  {
   "cell_type": "code",
   "execution_count": 54,
   "id": "c7f980bf-569a-46c8-a4ae-3b8c002468bd",
   "metadata": {},
   "outputs": [
    {
     "data": {
      "text/html": [
       "<div>\n",
       "<style scoped>\n",
       "    .dataframe tbody tr th:only-of-type {\n",
       "        vertical-align: middle;\n",
       "    }\n",
       "\n",
       "    .dataframe tbody tr th {\n",
       "        vertical-align: top;\n",
       "    }\n",
       "\n",
       "    .dataframe thead th {\n",
       "        text-align: right;\n",
       "    }\n",
       "</style>\n",
       "<table border=\"1\" class=\"dataframe\">\n",
       "  <thead>\n",
       "    <tr style=\"text-align: right;\">\n",
       "      <th></th>\n",
       "      <th>Cuisines</th>\n",
       "      <th>count</th>\n",
       "    </tr>\n",
       "  </thead>\n",
       "  <tbody>\n",
       "    <tr>\n",
       "      <th>0</th>\n",
       "      <td>North Indian</td>\n",
       "      <td>9.809264</td>\n",
       "    </tr>\n",
       "    <tr>\n",
       "      <th>1</th>\n",
       "      <td>North Indian, Chinese</td>\n",
       "      <td>5.355271</td>\n",
       "    </tr>\n",
       "    <tr>\n",
       "      <th>2</th>\n",
       "      <td>Chinese</td>\n",
       "      <td>3.709914</td>\n",
       "    </tr>\n",
       "    <tr>\n",
       "      <th>3</th>\n",
       "      <td>Fast Food</td>\n",
       "      <td>3.709914</td>\n",
       "    </tr>\n",
       "    <tr>\n",
       "      <th>4</th>\n",
       "      <td>North Indian, Mughlai</td>\n",
       "      <td>3.500314</td>\n",
       "    </tr>\n",
       "    <tr>\n",
       "      <th>...</th>\n",
       "      <td>...</td>\n",
       "      <td>...</td>\n",
       "    </tr>\n",
       "    <tr>\n",
       "      <th>1820</th>\n",
       "      <td>Bengali, Fast Food</td>\n",
       "      <td>0.010480</td>\n",
       "    </tr>\n",
       "    <tr>\n",
       "      <th>1821</th>\n",
       "      <td>North Indian, Rajasthani, Asian</td>\n",
       "      <td>0.010480</td>\n",
       "    </tr>\n",
       "    <tr>\n",
       "      <th>1822</th>\n",
       "      <td>Chinese, Thai, Malaysian, Indonesian</td>\n",
       "      <td>0.010480</td>\n",
       "    </tr>\n",
       "    <tr>\n",
       "      <th>1823</th>\n",
       "      <td>Bakery, Desserts, North Indian, Bengali, South...</td>\n",
       "      <td>0.010480</td>\n",
       "    </tr>\n",
       "    <tr>\n",
       "      <th>1824</th>\n",
       "      <td>Italian, World Cuisine</td>\n",
       "      <td>0.010480</td>\n",
       "    </tr>\n",
       "  </tbody>\n",
       "</table>\n",
       "<p>1825 rows × 2 columns</p>\n",
       "</div>"
      ],
      "text/plain": [
       "                                               Cuisines     count\n",
       "0                                          North Indian  9.809264\n",
       "1                                 North Indian, Chinese  5.355271\n",
       "2                                               Chinese  3.709914\n",
       "3                                             Fast Food  3.709914\n",
       "4                                 North Indian, Mughlai  3.500314\n",
       "...                                                 ...       ...\n",
       "1820                                 Bengali, Fast Food  0.010480\n",
       "1821                    North Indian, Rajasthani, Asian  0.010480\n",
       "1822               Chinese, Thai, Malaysian, Indonesian  0.010480\n",
       "1823  Bakery, Desserts, North Indian, Bengali, South...  0.010480\n",
       "1824                             Italian, World Cuisine  0.010480\n",
       "\n",
       "[1825 rows x 2 columns]"
      ]
     },
     "execution_count": 54,
     "metadata": {},
     "output_type": "execute_result"
    }
   ],
   "source": [
    "percentage_cusine= percentage_cusine.reset_index()\n",
    "percentage_cusine"
   ]
  },
  {
   "cell_type": "code",
   "execution_count": 57,
   "id": "aca6d548-4cb4-4bfe-9e26-9ad83af51efc",
   "metadata": {},
   "outputs": [
    {
     "data": {
      "image/png": "[encoded data removed]",
      "text/plain": [
       "<Figure size 500x400 with 1 Axes>"
      ]
     },
     "metadata": {},
     "output_type": "display_data"
    }
   ],
   "source": [
    "plt.figure(figsize=(5,4))\n",
    "plt.pie(percentage_cusine['count'].head(5), labels=percentage_cusine[\"Cuisines\"].head(5), autopct=\"%.2f\")\n",
    "plt.title(\"Top Cusines percentage\")\n",
    "plt.tight_layout()\n",
    "plt.show()"
   ]
  },
  {
   "cell_type": "code",
   "execution_count": null,
   "id": "6f89f878-2ce9-4789-a5e4-34b8488232ba",
   "metadata": {},
   "outputs": [],
   "source": []
  },
  {
   "cell_type": "markdown",
   "id": "5185ea6d-83bb-44b6-bf46-5f5b32f7af0b",
   "metadata": {},
   "source": [
    "# **Level 1 Task 2**\n",
    "# **Task: City Analysis**\n"
   ]
  },
  {
   "cell_type": "markdown",
   "id": "74f87d66-aa3b-4df9-a311-d1611eb4474a",
   "metadata": {},
   "source": [
    "## Identify the city with the highest number of restaurants in the dataset.\n",
    "\n"
   ]
  },
  {
   "cell_type": "code",
   "execution_count": 58,
   "id": "d6f95f56-88a8-4acf-822e-e53ca5556f64",
   "metadata": {},
   "outputs": [
    {
     "data": {
      "text/html": [
       "<div>\n",
       "<style scoped>\n",
       "    .dataframe tbody tr th:only-of-type {\n",
       "        vertical-align: middle;\n",
       "    }\n",
       "\n",
       "    .dataframe tbody tr th {\n",
       "        vertical-align: top;\n",
       "    }\n",
       "\n",
       "    .dataframe thead th {\n",
       "        text-align: right;\n",
       "    }\n",
       "</style>\n",
       "<table border=\"1\" class=\"dataframe\">\n",
       "  <thead>\n",
       "    <tr style=\"text-align: right;\">\n",
       "      <th></th>\n",
       "      <th>Restaurant ID</th>\n",
       "      <th>Restaurant Name</th>\n",
       "      <th>Country Code</th>\n",
       "      <th>City</th>\n",
       "      <th>Address</th>\n",
       "      <th>Locality</th>\n",
       "      <th>Locality Verbose</th>\n",
       "      <th>Longitude</th>\n",
       "      <th>Latitude</th>\n",
       "      <th>Cuisines</th>\n",
       "      <th>...</th>\n",
       "      <th>Currency</th>\n",
       "      <th>Has Table booking</th>\n",
       "      <th>Has Online delivery</th>\n",
       "      <th>Is delivering now</th>\n",
       "      <th>Switch to order menu</th>\n",
       "      <th>Price range</th>\n",
       "      <th>Aggregate rating</th>\n",
       "      <th>Rating color</th>\n",
       "      <th>Rating text</th>\n",
       "      <th>Votes</th>\n",
       "    </tr>\n",
       "  </thead>\n",
       "  <tbody>\n",
       "    <tr>\n",
       "      <th>0</th>\n",
       "      <td>6317637</td>\n",
       "      <td>Le Petit Souffle</td>\n",
       "      <td>162</td>\n",
       "      <td>Makati City</td>\n",
       "      <td>Third Floor, Century City Mall, Kalayaan Avenu...</td>\n",
       "      <td>Century City Mall, Poblacion, Makati City</td>\n",
       "      <td>Century City Mall, Poblacion, Makati City, Mak...</td>\n",
       "      <td>121.027535</td>\n",
       "      <td>14.565443</td>\n",
       "      <td>French, Japanese, Desserts</td>\n",
       "      <td>...</td>\n",
       "      <td>Botswana Pula(P)</td>\n",
       "      <td>Yes</td>\n",
       "      <td>No</td>\n",
       "      <td>No</td>\n",
       "      <td>No</td>\n",
       "      <td>3</td>\n",
       "      <td>4.8</td>\n",
       "      <td>Dark Green</td>\n",
       "      <td>Excellent</td>\n",
       "      <td>314</td>\n",
       "    </tr>\n",
       "    <tr>\n",
       "      <th>1</th>\n",
       "      <td>6304287</td>\n",
       "      <td>Izakaya Kikufuji</td>\n",
       "      <td>162</td>\n",
       "      <td>Makati City</td>\n",
       "      <td>Little Tokyo, 2277 Chino Roces Avenue, Legaspi...</td>\n",
       "      <td>Little Tokyo, Legaspi Village, Makati City</td>\n",
       "      <td>Little Tokyo, Legaspi Village, Makati City, Ma...</td>\n",
       "      <td>121.014101</td>\n",
       "      <td>14.553708</td>\n",
       "      <td>Japanese</td>\n",
       "      <td>...</td>\n",
       "      <td>Botswana Pula(P)</td>\n",
       "      <td>Yes</td>\n",
       "      <td>No</td>\n",
       "      <td>No</td>\n",
       "      <td>No</td>\n",
       "      <td>3</td>\n",
       "      <td>4.5</td>\n",
       "      <td>Dark Green</td>\n",
       "      <td>Excellent</td>\n",
       "      <td>591</td>\n",
       "    </tr>\n",
       "    <tr>\n",
       "      <th>2</th>\n",
       "      <td>6300002</td>\n",
       "      <td>Heat - Edsa Shangri-La</td>\n",
       "      <td>162</td>\n",
       "      <td>Mandaluyong City</td>\n",
       "      <td>Edsa Shangri-La, 1 Garden Way, Ortigas, Mandal...</td>\n",
       "      <td>Edsa Shangri-La, Ortigas, Mandaluyong City</td>\n",
       "      <td>Edsa Shangri-La, Ortigas, Mandaluyong City, Ma...</td>\n",
       "      <td>121.056831</td>\n",
       "      <td>14.581404</td>\n",
       "      <td>Seafood, Asian, Filipino, Indian</td>\n",
       "      <td>...</td>\n",
       "      <td>Botswana Pula(P)</td>\n",
       "      <td>Yes</td>\n",
       "      <td>No</td>\n",
       "      <td>No</td>\n",
       "      <td>No</td>\n",
       "      <td>4</td>\n",
       "      <td>4.4</td>\n",
       "      <td>Green</td>\n",
       "      <td>Very Good</td>\n",
       "      <td>270</td>\n",
       "    </tr>\n",
       "  </tbody>\n",
       "</table>\n",
       "<p>3 rows × 21 columns</p>\n",
       "</div>"
      ],
      "text/plain": [
       "   Restaurant ID         Restaurant Name  Country Code              City  \\\n",
       "0        6317637        Le Petit Souffle           162       Makati City   \n",
       "1        6304287        Izakaya Kikufuji           162       Makati City   \n",
       "2        6300002  Heat - Edsa Shangri-La           162  Mandaluyong City   \n",
       "\n",
       "                                             Address  \\\n",
       "0  Third Floor, Century City Mall, Kalayaan Avenu...   \n",
       "1  Little Tokyo, 2277 Chino Roces Avenue, Legaspi...   \n",
       "2  Edsa Shangri-La, 1 Garden Way, Ortigas, Mandal...   \n",
       "\n",
       "                                     Locality  \\\n",
       "0   Century City Mall, Poblacion, Makati City   \n",
       "1  Little Tokyo, Legaspi Village, Makati City   \n",
       "2  Edsa Shangri-La, Ortigas, Mandaluyong City   \n",
       "\n",
       "                                    Locality Verbose   Longitude   Latitude  \\\n",
       "0  Century City Mall, Poblacion, Makati City, Mak...  121.027535  14.565443   \n",
       "1  Little Tokyo, Legaspi Village, Makati City, Ma...  121.014101  14.553708   \n",
       "2  Edsa Shangri-La, Ortigas, Mandaluyong City, Ma...  121.056831  14.581404   \n",
       "\n",
       "                           Cuisines  ...          Currency Has Table booking  \\\n",
       "0        French, Japanese, Desserts  ...  Botswana Pula(P)               Yes   \n",
       "1                          Japanese  ...  Botswana Pula(P)               Yes   \n",
       "2  Seafood, Asian, Filipino, Indian  ...  Botswana Pula(P)               Yes   \n",
       "\n",
       "  Has Online delivery Is delivering now Switch to order menu Price range  \\\n",
       "0                  No                No                   No           3   \n",
       "1                  No                No                   No           3   \n",
       "2                  No                No                   No           4   \n",
       "\n",
       "   Aggregate rating  Rating color Rating text Votes  \n",
       "0               4.8    Dark Green   Excellent   314  \n",
       "1               4.5    Dark Green   Excellent   591  \n",
       "2               4.4         Green   Very Good   270  \n",
       "\n",
       "[3 rows x 21 columns]"
      ]
     },
     "execution_count": 58,
     "metadata": {},
     "output_type": "execute_result"
    }
   ],
   "source": [
    "df.head(3)"
   ]
  },
  {
   "cell_type": "code",
   "execution_count": 59,
   "id": "87b11cfc-1940-4cf0-9b0f-fe8b2b14d80c",
   "metadata": {},
   "outputs": [],
   "source": [
    "highest_city = df.groupby(\"City\")['Restaurant ID'].count().sort_values(ascending=False).head(5).reset_index()"
   ]
  },
  {
   "cell_type": "code",
   "execution_count": 60,
   "id": "51efc93b-150c-4347-8fc6-dc37a47b2223",
   "metadata": {},
   "outputs": [
    {
     "data": {
      "image/png": "[encoded data removed]",
      "text/plain": [
       "<Figure size 500x400 with 1 Axes>"
      ]
     },
     "metadata": {},
     "output_type": "display_data"
    }
   ],
   "source": [
    "plt.figure(figsize=(5,4))\n",
    "ax = sns.barplot(x=highest_city['City'], y=highest_city['Restaurant ID'])\n",
    "ax.bar_label(ax.containers[0])\n",
    "plt.title(\"Top 5 highest restaurant City\")\n",
    "plt.ylabel(\"Number of restaurant\")\n",
    "plt.tight_layout()\n",
    "plt.show()\n"
   ]
  },
  {
   "cell_type": "code",
   "execution_count": null,
   "id": "df4a4f7d-f8d0-4dae-9542-8340991fc175",
   "metadata": {},
   "outputs": [],
   "source": []
  },
  {
   "cell_type": "markdown",
   "id": "19d7b1f8-6994-433d-9ba3-6d953f0f40ca",
   "metadata": {},
   "source": [
    "## Calculate the average rating for restaurants in each city.\n",
    "\n"
   ]
  },
  {
   "cell_type": "code",
   "execution_count": 61,
   "id": "25d13021-f777-492b-8dd3-28c929496755",
   "metadata": {},
   "outputs": [
    {
     "data": {
      "text/html": [
       "<div>\n",
       "<style scoped>\n",
       "    .dataframe tbody tr th:only-of-type {\n",
       "        vertical-align: middle;\n",
       "    }\n",
       "\n",
       "    .dataframe tbody tr th {\n",
       "        vertical-align: top;\n",
       "    }\n",
       "\n",
       "    .dataframe thead th {\n",
       "        text-align: right;\n",
       "    }\n",
       "</style>\n",
       "<table border=\"1\" class=\"dataframe\">\n",
       "  <thead>\n",
       "    <tr style=\"text-align: right;\">\n",
       "      <th></th>\n",
       "      <th>Restaurant ID</th>\n",
       "      <th>Restaurant Name</th>\n",
       "      <th>Country Code</th>\n",
       "      <th>City</th>\n",
       "      <th>Address</th>\n",
       "      <th>Locality</th>\n",
       "      <th>Locality Verbose</th>\n",
       "      <th>Longitude</th>\n",
       "      <th>Latitude</th>\n",
       "      <th>Cuisines</th>\n",
       "      <th>...</th>\n",
       "      <th>Currency</th>\n",
       "      <th>Has Table booking</th>\n",
       "      <th>Has Online delivery</th>\n",
       "      <th>Is delivering now</th>\n",
       "      <th>Switch to order menu</th>\n",
       "      <th>Price range</th>\n",
       "      <th>Aggregate rating</th>\n",
       "      <th>Rating color</th>\n",
       "      <th>Rating text</th>\n",
       "      <th>Votes</th>\n",
       "    </tr>\n",
       "  </thead>\n",
       "  <tbody>\n",
       "    <tr>\n",
       "      <th>0</th>\n",
       "      <td>6317637</td>\n",
       "      <td>Le Petit Souffle</td>\n",
       "      <td>162</td>\n",
       "      <td>Makati City</td>\n",
       "      <td>Third Floor, Century City Mall, Kalayaan Avenu...</td>\n",
       "      <td>Century City Mall, Poblacion, Makati City</td>\n",
       "      <td>Century City Mall, Poblacion, Makati City, Mak...</td>\n",
       "      <td>121.027535</td>\n",
       "      <td>14.565443</td>\n",
       "      <td>French, Japanese, Desserts</td>\n",
       "      <td>...</td>\n",
       "      <td>Botswana Pula(P)</td>\n",
       "      <td>Yes</td>\n",
       "      <td>No</td>\n",
       "      <td>No</td>\n",
       "      <td>No</td>\n",
       "      <td>3</td>\n",
       "      <td>4.8</td>\n",
       "      <td>Dark Green</td>\n",
       "      <td>Excellent</td>\n",
       "      <td>314</td>\n",
       "    </tr>\n",
       "    <tr>\n",
       "      <th>1</th>\n",
       "      <td>6304287</td>\n",
       "      <td>Izakaya Kikufuji</td>\n",
       "      <td>162</td>\n",
       "      <td>Makati City</td>\n",
       "      <td>Little Tokyo, 2277 Chino Roces Avenue, Legaspi...</td>\n",
       "      <td>Little Tokyo, Legaspi Village, Makati City</td>\n",
       "      <td>Little Tokyo, Legaspi Village, Makati City, Ma...</td>\n",
       "      <td>121.014101</td>\n",
       "      <td>14.553708</td>\n",
       "      <td>Japanese</td>\n",
       "      <td>...</td>\n",
       "      <td>Botswana Pula(P)</td>\n",
       "      <td>Yes</td>\n",
       "      <td>No</td>\n",
       "      <td>No</td>\n",
       "      <td>No</td>\n",
       "      <td>3</td>\n",
       "      <td>4.5</td>\n",
       "      <td>Dark Green</td>\n",
       "      <td>Excellent</td>\n",
       "      <td>591</td>\n",
       "    </tr>\n",
       "    <tr>\n",
       "      <th>2</th>\n",
       "      <td>6300002</td>\n",
       "      <td>Heat - Edsa Shangri-La</td>\n",
       "      <td>162</td>\n",
       "      <td>Mandaluyong City</td>\n",
       "      <td>Edsa Shangri-La, 1 Garden Way, Ortigas, Mandal...</td>\n",
       "      <td>Edsa Shangri-La, Ortigas, Mandaluyong City</td>\n",
       "      <td>Edsa Shangri-La, Ortigas, Mandaluyong City, Ma...</td>\n",
       "      <td>121.056831</td>\n",
       "      <td>14.581404</td>\n",
       "      <td>Seafood, Asian, Filipino, Indian</td>\n",
       "      <td>...</td>\n",
       "      <td>Botswana Pula(P)</td>\n",
       "      <td>Yes</td>\n",
       "      <td>No</td>\n",
       "      <td>No</td>\n",
       "      <td>No</td>\n",
       "      <td>4</td>\n",
       "      <td>4.4</td>\n",
       "      <td>Green</td>\n",
       "      <td>Very Good</td>\n",
       "      <td>270</td>\n",
       "    </tr>\n",
       "    <tr>\n",
       "      <th>3</th>\n",
       "      <td>6318506</td>\n",
       "      <td>Ooma</td>\n",
       "      <td>162</td>\n",
       "      <td>Mandaluyong City</td>\n",
       "      <td>Third Floor, Mega Fashion Hall, SM Megamall, O...</td>\n",
       "      <td>SM Megamall, Ortigas, Mandaluyong City</td>\n",
       "      <td>SM Megamall, Ortigas, Mandaluyong City, Mandal...</td>\n",
       "      <td>121.056475</td>\n",
       "      <td>14.585318</td>\n",
       "      <td>Japanese, Sushi</td>\n",
       "      <td>...</td>\n",
       "      <td>Botswana Pula(P)</td>\n",
       "      <td>No</td>\n",
       "      <td>No</td>\n",
       "      <td>No</td>\n",
       "      <td>No</td>\n",
       "      <td>4</td>\n",
       "      <td>4.9</td>\n",
       "      <td>Dark Green</td>\n",
       "      <td>Excellent</td>\n",
       "      <td>365</td>\n",
       "    </tr>\n",
       "    <tr>\n",
       "      <th>4</th>\n",
       "      <td>6314302</td>\n",
       "      <td>Sambo Kojin</td>\n",
       "      <td>162</td>\n",
       "      <td>Mandaluyong City</td>\n",
       "      <td>Third Floor, Mega Atrium, SM Megamall, Ortigas...</td>\n",
       "      <td>SM Megamall, Ortigas, Mandaluyong City</td>\n",
       "      <td>SM Megamall, Ortigas, Mandaluyong City, Mandal...</td>\n",
       "      <td>121.057508</td>\n",
       "      <td>14.584450</td>\n",
       "      <td>Japanese, Korean</td>\n",
       "      <td>...</td>\n",
       "      <td>Botswana Pula(P)</td>\n",
       "      <td>Yes</td>\n",
       "      <td>No</td>\n",
       "      <td>No</td>\n",
       "      <td>No</td>\n",
       "      <td>4</td>\n",
       "      <td>4.8</td>\n",
       "      <td>Dark Green</td>\n",
       "      <td>Excellent</td>\n",
       "      <td>229</td>\n",
       "    </tr>\n",
       "    <tr>\n",
       "      <th>...</th>\n",
       "      <td>...</td>\n",
       "      <td>...</td>\n",
       "      <td>...</td>\n",
       "      <td>...</td>\n",
       "      <td>...</td>\n",
       "      <td>...</td>\n",
       "      <td>...</td>\n",
       "      <td>...</td>\n",
       "      <td>...</td>\n",
       "      <td>...</td>\n",
       "      <td>...</td>\n",
       "      <td>...</td>\n",
       "      <td>...</td>\n",
       "      <td>...</td>\n",
       "      <td>...</td>\n",
       "      <td>...</td>\n",
       "      <td>...</td>\n",
       "      <td>...</td>\n",
       "      <td>...</td>\n",
       "      <td>...</td>\n",
       "      <td>...</td>\n",
       "    </tr>\n",
       "    <tr>\n",
       "      <th>9546</th>\n",
       "      <td>5915730</td>\n",
       "      <td>Naml۱ Gurme</td>\n",
       "      <td>208</td>\n",
       "      <td>��stanbul</td>\n",
       "      <td>Kemanke�� Karamustafa Pa��a Mahallesi, R۱ht۱m ...</td>\n",
       "      <td>Karak�_y</td>\n",
       "      <td>Karak�_y, ��stanbul</td>\n",
       "      <td>28.977392</td>\n",
       "      <td>41.022793</td>\n",
       "      <td>Turkish</td>\n",
       "      <td>...</td>\n",
       "      <td>Turkish Lira(TL)</td>\n",
       "      <td>No</td>\n",
       "      <td>No</td>\n",
       "      <td>No</td>\n",
       "      <td>No</td>\n",
       "      <td>3</td>\n",
       "      <td>4.1</td>\n",
       "      <td>Green</td>\n",
       "      <td>Very Good</td>\n",
       "      <td>788</td>\n",
       "    </tr>\n",
       "    <tr>\n",
       "      <th>9547</th>\n",
       "      <td>5908749</td>\n",
       "      <td>Ceviz A��ac۱</td>\n",
       "      <td>208</td>\n",
       "      <td>��stanbul</td>\n",
       "      <td>Ko��uyolu Mahallesi, Muhittin ��st�_nda�� Cadd...</td>\n",
       "      <td>Ko��uyolu</td>\n",
       "      <td>Ko��uyolu, ��stanbul</td>\n",
       "      <td>29.041297</td>\n",
       "      <td>41.009847</td>\n",
       "      <td>World Cuisine, Patisserie, Cafe</td>\n",
       "      <td>...</td>\n",
       "      <td>Turkish Lira(TL)</td>\n",
       "      <td>No</td>\n",
       "      <td>No</td>\n",
       "      <td>No</td>\n",
       "      <td>No</td>\n",
       "      <td>3</td>\n",
       "      <td>4.2</td>\n",
       "      <td>Green</td>\n",
       "      <td>Very Good</td>\n",
       "      <td>1034</td>\n",
       "    </tr>\n",
       "    <tr>\n",
       "      <th>9548</th>\n",
       "      <td>5915807</td>\n",
       "      <td>Huqqa</td>\n",
       "      <td>208</td>\n",
       "      <td>��stanbul</td>\n",
       "      <td>Kuru�_e��me Mahallesi, Muallim Naci Caddesi, N...</td>\n",
       "      <td>Kuru�_e��me</td>\n",
       "      <td>Kuru�_e��me, ��stanbul</td>\n",
       "      <td>29.034640</td>\n",
       "      <td>41.055817</td>\n",
       "      <td>Italian, World Cuisine</td>\n",
       "      <td>...</td>\n",
       "      <td>Turkish Lira(TL)</td>\n",
       "      <td>No</td>\n",
       "      <td>No</td>\n",
       "      <td>No</td>\n",
       "      <td>No</td>\n",
       "      <td>4</td>\n",
       "      <td>3.7</td>\n",
       "      <td>Yellow</td>\n",
       "      <td>Good</td>\n",
       "      <td>661</td>\n",
       "    </tr>\n",
       "    <tr>\n",
       "      <th>9549</th>\n",
       "      <td>5916112</td>\n",
       "      <td>A���k Kahve</td>\n",
       "      <td>208</td>\n",
       "      <td>��stanbul</td>\n",
       "      <td>Kuru�_e��me Mahallesi, Muallim Naci Caddesi, N...</td>\n",
       "      <td>Kuru�_e��me</td>\n",
       "      <td>Kuru�_e��me, ��stanbul</td>\n",
       "      <td>29.036019</td>\n",
       "      <td>41.057979</td>\n",
       "      <td>Restaurant Cafe</td>\n",
       "      <td>...</td>\n",
       "      <td>Turkish Lira(TL)</td>\n",
       "      <td>No</td>\n",
       "      <td>No</td>\n",
       "      <td>No</td>\n",
       "      <td>No</td>\n",
       "      <td>4</td>\n",
       "      <td>4.0</td>\n",
       "      <td>Green</td>\n",
       "      <td>Very Good</td>\n",
       "      <td>901</td>\n",
       "    </tr>\n",
       "    <tr>\n",
       "      <th>9550</th>\n",
       "      <td>5927402</td>\n",
       "      <td>Walter's Coffee Roastery</td>\n",
       "      <td>208</td>\n",
       "      <td>��stanbul</td>\n",
       "      <td>Cafea��a Mahallesi, Bademalt۱ Sokak, No 21/B, ...</td>\n",
       "      <td>Moda</td>\n",
       "      <td>Moda, ��stanbul</td>\n",
       "      <td>29.026016</td>\n",
       "      <td>40.984776</td>\n",
       "      <td>Cafe</td>\n",
       "      <td>...</td>\n",
       "      <td>Turkish Lira(TL)</td>\n",
       "      <td>No</td>\n",
       "      <td>No</td>\n",
       "      <td>No</td>\n",
       "      <td>No</td>\n",
       "      <td>2</td>\n",
       "      <td>4.0</td>\n",
       "      <td>Green</td>\n",
       "      <td>Very Good</td>\n",
       "      <td>591</td>\n",
       "    </tr>\n",
       "  </tbody>\n",
       "</table>\n",
       "<p>9551 rows × 21 columns</p>\n",
       "</div>"
      ],
      "text/plain": [
       "      Restaurant ID           Restaurant Name  Country Code              City  \\\n",
       "0           6317637          Le Petit Souffle           162       Makati City   \n",
       "1           6304287          Izakaya Kikufuji           162       Makati City   \n",
       "2           6300002    Heat - Edsa Shangri-La           162  Mandaluyong City   \n",
       "3           6318506                      Ooma           162  Mandaluyong City   \n",
       "4           6314302               Sambo Kojin           162  Mandaluyong City   \n",
       "...             ...                       ...           ...               ...   \n",
       "9546        5915730               Naml۱ Gurme           208         ��stanbul   \n",
       "9547        5908749              Ceviz A��ac۱           208         ��stanbul   \n",
       "9548        5915807                     Huqqa           208         ��stanbul   \n",
       "9549        5916112               A���k Kahve           208         ��stanbul   \n",
       "9550        5927402  Walter's Coffee Roastery           208         ��stanbul   \n",
       "\n",
       "                                                Address  \\\n",
       "0     Third Floor, Century City Mall, Kalayaan Avenu...   \n",
       "1     Little Tokyo, 2277 Chino Roces Avenue, Legaspi...   \n",
       "2     Edsa Shangri-La, 1 Garden Way, Ortigas, Mandal...   \n",
       "3     Third Floor, Mega Fashion Hall, SM Megamall, O...   \n",
       "4     Third Floor, Mega Atrium, SM Megamall, Ortigas...   \n",
       "...                                                 ...   \n",
       "9546  Kemanke�� Karamustafa Pa��a Mahallesi, R۱ht۱m ...   \n",
       "9547  Ko��uyolu Mahallesi, Muhittin ��st�_nda�� Cadd...   \n",
       "9548  Kuru�_e��me Mahallesi, Muallim Naci Caddesi, N...   \n",
       "9549  Kuru�_e��me Mahallesi, Muallim Naci Caddesi, N...   \n",
       "9550  Cafea��a Mahallesi, Bademalt۱ Sokak, No 21/B, ...   \n",
       "\n",
       "                                        Locality  \\\n",
       "0      Century City Mall, Poblacion, Makati City   \n",
       "1     Little Tokyo, Legaspi Village, Makati City   \n",
       "2     Edsa Shangri-La, Ortigas, Mandaluyong City   \n",
       "3         SM Megamall, Ortigas, Mandaluyong City   \n",
       "4         SM Megamall, Ortigas, Mandaluyong City   \n",
       "...                                          ...   \n",
       "9546                                    Karak�_y   \n",
       "9547                                   Ko��uyolu   \n",
       "9548                                 Kuru�_e��me   \n",
       "9549                                 Kuru�_e��me   \n",
       "9550                                        Moda   \n",
       "\n",
       "                                       Locality Verbose   Longitude  \\\n",
       "0     Century City Mall, Poblacion, Makati City, Mak...  121.027535   \n",
       "1     Little Tokyo, Legaspi Village, Makati City, Ma...  121.014101   \n",
       "2     Edsa Shangri-La, Ortigas, Mandaluyong City, Ma...  121.056831   \n",
       "3     SM Megamall, Ortigas, Mandaluyong City, Mandal...  121.056475   \n",
       "4     SM Megamall, Ortigas, Mandaluyong City, Mandal...  121.057508   \n",
       "...                                                 ...         ...   \n",
       "9546                                Karak�_y, ��stanbul   28.977392   \n",
       "9547                               Ko��uyolu, ��stanbul   29.041297   \n",
       "9548                             Kuru�_e��me, ��stanbul   29.034640   \n",
       "9549                             Kuru�_e��me, ��stanbul   29.036019   \n",
       "9550                                    Moda, ��stanbul   29.026016   \n",
       "\n",
       "       Latitude                          Cuisines  ...          Currency  \\\n",
       "0     14.565443        French, Japanese, Desserts  ...  Botswana Pula(P)   \n",
       "1     14.553708                          Japanese  ...  Botswana Pula(P)   \n",
       "2     14.581404  Seafood, Asian, Filipino, Indian  ...  Botswana Pula(P)   \n",
       "3     14.585318                   Japanese, Sushi  ...  Botswana Pula(P)   \n",
       "4     14.584450                  Japanese, Korean  ...  Botswana Pula(P)   \n",
       "...         ...                               ...  ...               ...   \n",
       "9546  41.022793                           Turkish  ...  Turkish Lira(TL)   \n",
       "9547  41.009847   World Cuisine, Patisserie, Cafe  ...  Turkish Lira(TL)   \n",
       "9548  41.055817            Italian, World Cuisine  ...  Turkish Lira(TL)   \n",
       "9549  41.057979                   Restaurant Cafe  ...  Turkish Lira(TL)   \n",
       "9550  40.984776                              Cafe  ...  Turkish Lira(TL)   \n",
       "\n",
       "     Has Table booking Has Online delivery Is delivering now  \\\n",
       "0                  Yes                  No                No   \n",
       "1                  Yes                  No                No   \n",
       "2                  Yes                  No                No   \n",
       "3                   No                  No                No   \n",
       "4                  Yes                  No                No   \n",
       "...                ...                 ...               ...   \n",
       "9546                No                  No                No   \n",
       "9547                No                  No                No   \n",
       "9548                No                  No                No   \n",
       "9549                No                  No                No   \n",
       "9550                No                  No                No   \n",
       "\n",
       "     Switch to order menu Price range  Aggregate rating  Rating color  \\\n",
       "0                      No           3               4.8    Dark Green   \n",
       "1                      No           3               4.5    Dark Green   \n",
       "2                      No           4               4.4         Green   \n",
       "3                      No           4               4.9    Dark Green   \n",
       "4                      No           4               4.8    Dark Green   \n",
       "...                   ...         ...               ...           ...   \n",
       "9546                   No           3               4.1         Green   \n",
       "9547                   No           3               4.2         Green   \n",
       "9548                   No           4               3.7        Yellow   \n",
       "9549                   No           4               4.0         Green   \n",
       "9550                   No           2               4.0         Green   \n",
       "\n",
       "     Rating text Votes  \n",
       "0      Excellent   314  \n",
       "1      Excellent   591  \n",
       "2      Very Good   270  \n",
       "3      Excellent   365  \n",
       "4      Excellent   229  \n",
       "...          ...   ...  \n",
       "9546   Very Good   788  \n",
       "9547   Very Good  1034  \n",
       "9548        Good   661  \n",
       "9549   Very Good   901  \n",
       "9550   Very Good   591  \n",
       "\n",
       "[9551 rows x 21 columns]"
      ]
     },
     "execution_count": 61,
     "metadata": {},
     "output_type": "execute_result"
    }
   ],
   "source": [
    "df"
   ]
  },
  {
   "cell_type": "code",
   "execution_count": 62,
   "id": "ee4b7e30-2ef8-42d5-8809-f672fb946695",
   "metadata": {},
   "outputs": [
    {
     "data": {
      "text/html": [
       "<div>\n",
       "<style scoped>\n",
       "    .dataframe tbody tr th:only-of-type {\n",
       "        vertical-align: middle;\n",
       "    }\n",
       "\n",
       "    .dataframe tbody tr th {\n",
       "        vertical-align: top;\n",
       "    }\n",
       "\n",
       "    .dataframe thead th {\n",
       "        text-align: right;\n",
       "    }\n",
       "</style>\n",
       "<table border=\"1\" class=\"dataframe\">\n",
       "  <thead>\n",
       "    <tr style=\"text-align: right;\">\n",
       "      <th></th>\n",
       "      <th>City</th>\n",
       "      <th>Aggregate rating</th>\n",
       "    </tr>\n",
       "  </thead>\n",
       "  <tbody>\n",
       "    <tr>\n",
       "      <th>0</th>\n",
       "      <td>Inner City</td>\n",
       "      <td>4.900000</td>\n",
       "    </tr>\n",
       "    <tr>\n",
       "      <th>1</th>\n",
       "      <td>Quezon City</td>\n",
       "      <td>4.800000</td>\n",
       "    </tr>\n",
       "    <tr>\n",
       "      <th>2</th>\n",
       "      <td>Makati City</td>\n",
       "      <td>4.650000</td>\n",
       "    </tr>\n",
       "    <tr>\n",
       "      <th>3</th>\n",
       "      <td>Pasig City</td>\n",
       "      <td>4.633333</td>\n",
       "    </tr>\n",
       "    <tr>\n",
       "      <th>4</th>\n",
       "      <td>Mandaluyong City</td>\n",
       "      <td>4.625000</td>\n",
       "    </tr>\n",
       "    <tr>\n",
       "      <th>...</th>\n",
       "      <td>...</td>\n",
       "      <td>...</td>\n",
       "    </tr>\n",
       "    <tr>\n",
       "      <th>136</th>\n",
       "      <td>New Delhi</td>\n",
       "      <td>2.438845</td>\n",
       "    </tr>\n",
       "    <tr>\n",
       "      <th>137</th>\n",
       "      <td>Montville</td>\n",
       "      <td>2.400000</td>\n",
       "    </tr>\n",
       "    <tr>\n",
       "      <th>138</th>\n",
       "      <td>Mc Millan</td>\n",
       "      <td>2.400000</td>\n",
       "    </tr>\n",
       "    <tr>\n",
       "      <th>139</th>\n",
       "      <td>Noida</td>\n",
       "      <td>2.036204</td>\n",
       "    </tr>\n",
       "    <tr>\n",
       "      <th>140</th>\n",
       "      <td>Faridabad</td>\n",
       "      <td>1.866932</td>\n",
       "    </tr>\n",
       "  </tbody>\n",
       "</table>\n",
       "<p>141 rows × 2 columns</p>\n",
       "</div>"
      ],
      "text/plain": [
       "                 City  Aggregate rating\n",
       "0          Inner City          4.900000\n",
       "1         Quezon City          4.800000\n",
       "2         Makati City          4.650000\n",
       "3          Pasig City          4.633333\n",
       "4    Mandaluyong City          4.625000\n",
       "..                ...               ...\n",
       "136         New Delhi          2.438845\n",
       "137         Montville          2.400000\n",
       "138         Mc Millan          2.400000\n",
       "139             Noida          2.036204\n",
       "140         Faridabad          1.866932\n",
       "\n",
       "[141 rows x 2 columns]"
      ]
     },
     "execution_count": 62,
     "metadata": {},
     "output_type": "execute_result"
    }
   ],
   "source": [
    "avg_rating= df.groupby(\"City\")['Aggregate rating'].mean().sort_values(ascending=False).reset_index()\n",
    "avg_rating"
   ]
  },
  {
   "cell_type": "code",
   "execution_count": 63,
   "id": "ef12ad13-983a-4316-b023-7d5a01241694",
   "metadata": {},
   "outputs": [
    {
     "data": {
      "text/plain": [
       "<Axes: ylabel='Aggregate rating'>"
      ]
     },
     "execution_count": 63,
     "metadata": {},
     "output_type": "execute_result"
    },
    {
     "data": {
      "image/png": "[encoded data removed]",
      "text/plain": [
       "<Figure size 640x480 with 1 Axes>"
      ]
     },
     "metadata": {},
     "output_type": "display_data"
    }
   ],
   "source": [
    "sns.lineplot(avg_rating['Aggregate rating'])"
   ]
  },
  {
   "cell_type": "code",
   "execution_count": null,
   "id": "1e864fcc-054e-4015-b310-91f10c11470b",
   "metadata": {},
   "outputs": [],
   "source": []
  },
  {
   "cell_type": "markdown",
   "id": "441b7c17-a314-478d-80fb-3798aaf7f380",
   "metadata": {},
   "source": [
    "## Determine the city with the highest average rating\n"
   ]
  },
  {
   "cell_type": "code",
   "execution_count": 64,
   "id": "f523b34f-a923-40e1-9417-0ae0536bc5ce",
   "metadata": {},
   "outputs": [
    {
     "data": {
      "text/html": [
       "<div>\n",
       "<style scoped>\n",
       "    .dataframe tbody tr th:only-of-type {\n",
       "        vertical-align: middle;\n",
       "    }\n",
       "\n",
       "    .dataframe tbody tr th {\n",
       "        vertical-align: top;\n",
       "    }\n",
       "\n",
       "    .dataframe thead th {\n",
       "        text-align: right;\n",
       "    }\n",
       "</style>\n",
       "<table border=\"1\" class=\"dataframe\">\n",
       "  <thead>\n",
       "    <tr style=\"text-align: right;\">\n",
       "      <th></th>\n",
       "      <th>City</th>\n",
       "      <th>Aggregate rating</th>\n",
       "    </tr>\n",
       "  </thead>\n",
       "  <tbody>\n",
       "    <tr>\n",
       "      <th>0</th>\n",
       "      <td>Inner City</td>\n",
       "      <td>4.9</td>\n",
       "    </tr>\n",
       "  </tbody>\n",
       "</table>\n",
       "</div>"
      ],
      "text/plain": [
       "         City  Aggregate rating\n",
       "0  Inner City               4.9"
      ]
     },
     "execution_count": 64,
     "metadata": {},
     "output_type": "execute_result"
    }
   ],
   "source": [
    "avg_rating[['City','Aggregate rating']].head(1)"
   ]
  },
  {
   "cell_type": "code",
   "execution_count": 65,
   "id": "01fb88a1-16ea-4de7-86a7-5374aaa075eb",
   "metadata": {},
   "outputs": [
    {
     "data": {
      "text/plain": [
       "<Axes: xlabel='City', ylabel='Aggregate rating'>"
      ]
     },
     "execution_count": 65,
     "metadata": {},
     "output_type": "execute_result"
    },
    {
     "data": {
      "image/png": "[encoded data removed]",
      "text/plain": [
       "<Figure size 640x480 with 1 Axes>"
      ]
     },
     "metadata": {},
     "output_type": "display_data"
    }
   ],
   "source": [
    "sns.lineplot(y=avg_rating['Aggregate rating'].head(5), x=avg_rating['City'].head(5))"
   ]
  },
  {
   "cell_type": "code",
   "execution_count": null,
   "id": "ed11a1c6-e4b4-46c8-a566-c20c08e318f1",
   "metadata": {},
   "outputs": [],
   "source": []
  },
  {
   "cell_type": "markdown",
   "id": "7242bfc3-d082-4338-a42f-29dc5e5700cb",
   "metadata": {},
   "source": [
    "# **Level 1 Task 3**\n",
    "## Task: Price Range Distribution\n"
   ]
  },
  {
   "cell_type": "markdown",
   "id": "0158b500-8014-46a1-a093-2d99c0767531",
   "metadata": {},
   "source": [
    "## Create a histogram or bar chart to visualize the distribution of price ranges among the restaurants\n",
    "\n"
   ]
  },
  {
   "cell_type": "code",
   "execution_count": 66,
   "id": "39b94315-d1ea-48be-8f8d-6214e316a27f",
   "metadata": {},
   "outputs": [
    {
     "data": {
      "image/png": "[encoded data removed]",
      "text/plain": [
       "<Figure size 640x480 with 1 Axes>"
      ]
     },
     "metadata": {},
     "output_type": "display_data"
    }
   ],
   "source": [
    "sns.histplot(df['Price range'], bins=5)\n",
    "plt.title(\"Price range distribution\")\n",
    "plt.show()"
   ]
  },
  {
   "cell_type": "code",
   "execution_count": 67,
   "id": "f9c7013b-559a-4705-bbe6-93f2d02532f6",
   "metadata": {},
   "outputs": [
    {
     "data": {
      "image/png": "[encoded data removed]",
      "text/plain": [
       "<Figure size 640x480 with 1 Axes>"
      ]
     },
     "metadata": {},
     "output_type": "display_data"
    }
   ],
   "source": [
    "df['Price range'].value_counts().plot(kind='bar')\n",
    "plt.title(\"price range distribution\")\n",
    "plt.show()"
   ]
  },
  {
   "cell_type": "code",
   "execution_count": null,
   "id": "56083c0d-c155-48a0-8790-ae6fb2681b9d",
   "metadata": {},
   "outputs": [],
   "source": []
  },
  {
   "cell_type": "markdown",
   "id": "85817176-3abc-47fd-a6ed-c9bcb7a28d99",
   "metadata": {},
   "source": [
    "## Calculate the percentage of restaurants in each price range category.\n"
   ]
  },
  {
   "cell_type": "code",
   "execution_count": 68,
   "id": "0fd830fc-929d-43e5-b1e3-d00feafd2056",
   "metadata": {},
   "outputs": [
    {
     "data": {
      "text/plain": [
       "Price range\n",
       "1    46.529159\n",
       "2    32.593446\n",
       "3    14.741912\n",
       "4     6.135483\n",
       "Name: count, dtype: float64"
      ]
     },
     "execution_count": 68,
     "metadata": {},
     "output_type": "execute_result"
    }
   ],
   "source": [
    "price_range_counts = df['Price range'].value_counts()\n",
    "price_range_percentage = (price_range_counts / price_range_counts.sum()) * 100\n",
    "price_range_percentage"
   ]
  },
  {
   "cell_type": "code",
   "execution_count": null,
   "id": "142fc03b-17ba-4782-aa99-0204bb16c600",
   "metadata": {},
   "outputs": [],
   "source": []
  },
  {
   "cell_type": "markdown",
   "id": "b5c01627-c265-4a7f-bfb3-98933d793bbe",
   "metadata": {},
   "source": [
    "# **Level 1  Task 4**\n",
    "## Task: Online Delivery"
   ]
  },
  {
   "cell_type": "markdown",
   "id": "7f2b2a2b-70e4-4614-be45-b494e2ede8fe",
   "metadata": {},
   "source": [
    "## Determine the percentage of restaurants that offer online delivery.\n"
   ]
  },
  {
   "cell_type": "code",
   "execution_count": 84,
   "id": "ad7450de-0e95-4ab9-a798-a8b12166c01b",
   "metadata": {},
   "outputs": [
    {
     "data": {
      "text/plain": [
       "25.662234321013504"
      ]
     },
     "execution_count": 84,
     "metadata": {},
     "output_type": "execute_result"
    }
   ],
   "source": [
    "df[df['Has Online delivery']==\"Yes\"]['Restaurant ID'].count()/df['Has Online delivery'].value_counts().sum()*100"
   ]
  },
  {
   "cell_type": "code",
   "execution_count": 91,
   "id": "d42d12a5-9474-4fde-844b-2665868a8fde",
   "metadata": {},
   "outputs": [
    {
     "data": {
      "image/png": "[encoded data removed]",
      "text/plain": [
       "<Figure size 500x400 with 1 Axes>"
      ]
     },
     "metadata": {},
     "output_type": "display_data"
    }
   ],
   "source": [
    "plt.figure(figsize=(5,4))\n",
    "df['Has Online delivery'].value_counts().plot.pie(autopct=\"%.2f\", title= \"Restaurant online delivery\")\n",
    "plt.show()"
   ]
  },
  {
   "cell_type": "code",
   "execution_count": null,
   "id": "ab4c3bb5-6810-4a42-891d-c873467e1d59",
   "metadata": {},
   "outputs": [],
   "source": []
  },
  {
   "cell_type": "markdown",
   "id": "be389852-1179-4abc-be0c-1a761aba6e66",
   "metadata": {},
   "source": [
    "## Compare the average ratings of restaurants with and without online delivery.\n"
   ]
  },
  {
   "cell_type": "markdown",
   "id": "248dee43-a3fd-400b-81cb-ac97c9c5cdc2",
   "metadata": {},
   "source": [
    "##  average ratings of restaurants with online delivery"
   ]
  },
  {
   "cell_type": "code",
   "execution_count": 116,
   "id": "fc56051c-f11a-46e9-ad02-fc9f876c174c",
   "metadata": {},
   "outputs": [],
   "source": [
    "with_online = df[df['Has Online delivery']==\"Yes\"]['Aggregate rating'].mean()\n",
    "with_online= pd.Series(with_online)"
   ]
  },
  {
   "cell_type": "markdown",
   "id": "759f58c0-5152-424f-b075-d628d185016e",
   "metadata": {},
   "source": [
    "##  average ratings of restaurants without online delivery"
   ]
  },
  {
   "cell_type": "code",
   "execution_count": 115,
   "id": "f6025ba3-b3de-4feb-a13e-306324e18204",
   "metadata": {},
   "outputs": [],
   "source": [
    "without_online = df[df['Has Online delivery']==\"No\"]['Aggregate rating'].mean()\n",
    "without_online= pd.Series(without_online)"
   ]
  },
  {
   "cell_type": "markdown",
   "id": "f5cde723-ec23-46de-b7f9-ad40f695d9d5",
   "metadata": {},
   "source": [
    "## Compararing"
   ]
  },
  {
   "cell_type": "code",
   "execution_count": 138,
   "id": "234c1a9b-2d34-423a-9069-8afc3117397d",
   "metadata": {},
   "outputs": [
    {
     "data": {
      "text/html": [
       "<div>\n",
       "<style scoped>\n",
       "    .dataframe tbody tr th:only-of-type {\n",
       "        vertical-align: middle;\n",
       "    }\n",
       "\n",
       "    .dataframe tbody tr th {\n",
       "        vertical-align: top;\n",
       "    }\n",
       "\n",
       "    .dataframe thead th {\n",
       "        text-align: right;\n",
       "    }\n",
       "</style>\n",
       "<table border=\"1\" class=\"dataframe\">\n",
       "  <thead>\n",
       "    <tr style=\"text-align: right;\">\n",
       "      <th></th>\n",
       "      <th>With</th>\n",
       "      <th>Without</th>\n",
       "    </tr>\n",
       "  </thead>\n",
       "  <tbody>\n",
       "    <tr>\n",
       "      <th>0</th>\n",
       "      <td>3.248837</td>\n",
       "      <td>2.465296</td>\n",
       "    </tr>\n",
       "  </tbody>\n",
       "</table>\n",
       "</div>"
      ],
      "text/plain": [
       "       With   Without\n",
       "0  3.248837  2.465296"
      ]
     },
     "execution_count": 138,
     "metadata": {},
     "output_type": "execute_result"
    }
   ],
   "source": [
    "compare = pd.DataFrame({'With': with_online, \"Without\": without_online})\n",
    "compare"
   ]
  },
  {
   "cell_type": "code",
   "execution_count": 141,
   "id": "a93793c1-7368-4b01-bed3-51d1edee1645",
   "metadata": {},
   "outputs": [
    {
     "data": {
      "text/plain": [
       "Text(0.5, 1.0, 'Comparing Online delivery')"
      ]
     },
     "execution_count": 141,
     "metadata": {},
     "output_type": "execute_result"
    },
    {
     "data": {
      "image/png": "[encoded data removed]",
      "text/plain": [
       "<Figure size 500x400 with 1 Axes>"
      ]
     },
     "metadata": {},
     "output_type": "display_data"
    }
   ],
   "source": [
    "plt.figure(figsize=(5,4))\n",
    "sns.barplot(compare)\n",
    "plt.title(\"Comparing Online delivery\")"
   ]
  }
 ],
 "metadata": {
  "kernelspec": {
   "display_name": "Python 3 (ipykernel)",
   "language": "python",
   "name": "python3"
  },
  "language_info": {
   "codemirror_mode": {
    "name": "ipython",
    "version": 3
   },
   "file_extension": ".py",
   "mimetype": "text/x-python",
   "name": "python",
   "nbconvert_exporter": "python",
   "pygments_lexer": "ipython3",
   "version": "3.12.4"
  }
 },
 "nbformat": 4,
 "nbformat_minor": 5
}
